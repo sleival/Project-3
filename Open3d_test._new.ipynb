{
 "cells": [
  {
   "cell_type": "code",
   "execution_count": 1,
   "metadata": {},
   "outputs": [],
   "source": [
    "import numpy as np\n",
    "import open3d as o3d"
   ]
  },
  {
   "cell_type": "code",
   "execution_count": 2,
   "metadata": {},
   "outputs": [],
   "source": [
    "#Folder with cloud points files, folder for outputs\n",
    "input_path=\"./\"\n",
    "output_path=\"./\"\n",
    "#dataname=\"sample_w_normals.xyz\"\n",
    "dataname=\"sphere_w_N.csv\"\n"
   ]
  },
  {
   "cell_type": "code",
   "execution_count": 3,
   "metadata": {},
   "outputs": [],
   "source": [
    "#Load data\n",
    "point_cloud= np.loadtxt(input_path+dataname,skiprows=1,delimiter=',')"
   ]
  },
  {
   "cell_type": "code",
   "execution_count": 4,
   "metadata": {},
   "outputs": [],
   "source": [
    "#Convert the data into open3d coordinates\n",
    "pcd = o3d.geometry.PointCloud()\n",
    "pcd.points = o3d.utility.Vector3dVector(point_cloud[:,3:6])\n",
    "#pcd.colors = o3d.utility.Vector3dVector(point_cloud[:,3:6]/255)\n",
    "pcd.normals = o3d.utility.Vector3dVector(point_cloud[:,0:3])"
   ]
  },
  {
   "cell_type": "code",
   "execution_count": 5,
   "metadata": {},
   "outputs": [],
   "source": [
    "#Visualization of the point cloud\n",
    "o3d.visualization.draw_geometries([pcd])"
   ]
  },
  {
   "cell_type": "code",
   "execution_count": 6,
   "metadata": {},
   "outputs": [],
   "source": [
    "#Compute the distances to the nearest neighbor and the average\n",
    "distances = pcd.compute_nearest_neighbor_distance()\n",
    "avg_dist = np.mean(distances)\n",
    "radius = 3 * avg_dist"
   ]
  },
  {
   "cell_type": "code",
   "execution_count": 7,
   "metadata": {},
   "outputs": [],
   "source": [
    "#Create the mesh\n",
    "bpa_mesh = o3d.geometry.TriangleMesh.create_from_point_cloud_ball_pivoting(pcd,o3d.utility.DoubleVector([radius, radius * 2]))"
   ]
  },
  {
   "cell_type": "code",
   "execution_count": 8,
   "metadata": {},
   "outputs": [],
   "source": [
    "#Second method for the mesh\n",
    "poisson_mesh = o3d.geometry.TriangleMesh.create_from_point_cloud_poisson(pcd, depth=8, width=0, scale=1.1, linear_fit=False)[0]"
   ]
  },
  {
   "cell_type": "code",
   "execution_count": 9,
   "metadata": {},
   "outputs": [
    {
     "data": {
      "text/plain": [
       "True"
      ]
     },
     "execution_count": 9,
     "metadata": {},
     "output_type": "execute_result"
    }
   ],
   "source": [
    "#Export the mesh to a file within the given output folder\n",
    "\n",
    "#This works with ply and stl\n",
    "o3d.io.write_triangle_mesh(output_path+\"sphere_bpa.ply\", bpa_mesh)\n",
    "\n",
    "#This only works with ply\n",
    "o3d.io.write_triangle_mesh(output_path+\"sphere_poisson.ply\", poisson_mesh)"
   ]
  },
  {
   "cell_type": "code",
   "execution_count": 10,
   "metadata": {},
   "outputs": [
    {
     "data": {
      "text/plain": [
       "TriangleMesh with 6302 points and 12600 triangles."
      ]
     },
     "execution_count": 10,
     "metadata": {},
     "output_type": "execute_result"
    }
   ],
   "source": [
    "#Import a mesh from the file and visualize it\n",
    "bpa_mesh = o3d.io.read_triangle_mesh(output_path+\"sphere_bpa.ply\")\n",
    "bpa_mesh.paint_uniform_color([0.2, 0.2, 1])\n",
    "bpa_mesh.compute_vertex_normals()\n",
    "#o3d.visualization.draw_geometries([bpa_mesh])"
   ]
  },
  {
   "cell_type": "code",
   "execution_count": 11,
   "metadata": {},
   "outputs": [
    {
     "data": {
      "text/plain": [
       "TriangleMesh with 15966 points and 31928 triangles."
      ]
     },
     "execution_count": 11,
     "metadata": {},
     "output_type": "execute_result"
    }
   ],
   "source": [
    "#Import a mesh from the file and visualize it\n",
    "poiss_mesh = o3d.io.read_triangle_mesh(output_path+\"sphere_poisson.ply\")\n",
    "poiss_mesh.paint_uniform_color([0.2, 0.2, 1])\n",
    "poiss_mesh.compute_vertex_normals()\n",
    "#o3d.visualization.draw_geometries([poiss_mesh])"
   ]
  },
  {
   "cell_type": "code",
   "execution_count": 12,
   "metadata": {},
   "outputs": [],
   "source": [
    "original = o3d.io.read_triangle_mesh(input_path+\"sphere.stl\")\n",
    "original.paint_uniform_color([0.2, 0.2, 1])\n",
    "original.compute_vertex_normals()\n",
    "o3d.visualization.draw_geometries([original], mesh_show_wireframe=True)\n",
    "\n",
    "\n",
    "#np.asarray(mesh.triangles).shape\n",
    "#mesh."
   ]
  },
  {
   "cell_type": "code",
   "execution_count": 20,
   "metadata": {},
   "outputs": [],
   "source": [
    "N = 100000\n",
    "orig_samp = original.sample_points_uniformly(N)\n",
    "bpa_samp = bpa_mesh.sample_points_uniformly(N)\n",
    "poiss_samp = poiss_mesh.sample_points_uniformly(N)"
   ]
  },
  {
   "cell_type": "code",
   "execution_count": 21,
   "metadata": {},
   "outputs": [
    {
     "name": "stdout",
     "output_type": "stream",
     "text": [
      "0.09041634586442918\n",
      "0.09585992277497504\n",
      "0.02206818858865806\n",
      "0.022495032855454015\n"
     ]
    }
   ],
   "source": [
    "bpa_dist = bpa_samp.compute_point_cloud_distance(orig_samp)\n",
    "poiss_dist = poiss_samp.compute_point_cloud_distance(orig_samp)\n",
    "\n",
    "print(np.max(bpa_dist))\n",
    "print(np.max(poiss_dist))\n",
    "\n",
    "print(np.average(bpa_dist))\n",
    "print(np.average(poiss_dist))"
   ]
  },
  {
   "cell_type": "code",
   "execution_count": 15,
   "metadata": {},
   "outputs": [
    {
     "data": {
      "image/png": "[encoded data removed]",
      "text/plain": [
       "<Figure size 640x480 with 1 Axes>"
      ]
     },
     "metadata": {},
     "output_type": "display_data"
    }
   ],
   "source": [
    "import pandas as pd\n",
    "import matplotlib.pyplot as plt\n",
    "\n",
    "df = pd.DataFrame({\"\": bpa_dist}) # transform to a dataframe\n",
    "df2 = pd.DataFrame({\"\": poiss_dist})\n",
    "# Some graphs\n",
    "ax1 = df.boxplot(return_type=\"axes\") # BOXPLOT\n",
    "plt.title(\"Distance with BPA\")\n",
    "#ax2 = df2.boxplot(return_type=\"axes\")\n",
    "plt.show()"
   ]
  },
  {
   "cell_type": "code",
   "execution_count": 16,
   "metadata": {},
   "outputs": [
    {
     "data": {
      "image/png": "[encoded data removed]",
      "text/plain": [
       "<Figure size 640x480 with 1 Axes>"
      ]
     },
     "metadata": {},
     "output_type": "display_data"
    }
   ],
   "source": [
    "df2 = pd.DataFrame({\"\": poiss_dist})\n",
    "\n",
    "ax1 = df2.boxplot(return_type=\"axes\") # BOXPLOT\n",
    "plt.title(\"Distance with Poisson\")\n",
    "plt.show()"
   ]
  },
  {
   "cell_type": "code",
   "execution_count": 17,
   "metadata": {},
   "outputs": [],
   "source": [
    "o3d.visualization.draw_geometries([bpa_samp])"
   ]
  },
  {
   "cell_type": "code",
   "execution_count": 18,
   "metadata": {},
   "outputs": [
    {
     "name": "stdout",
     "output_type": "stream",
     "text": [
      "0.16.1\n",
      "TriangleMesh with 11923 points and 23838 triangles.\n",
      "Vertices:\n",
      "[[-8.47325325e+00 -1.47753763e+01  9.30595398e-03]\n",
      " [-8.56535339e+00 -1.47175264e+01  9.30595398e-03]\n",
      " [-8.02754784e+00 -1.47806520e+01  9.30595398e-03]\n",
      " ...\n",
      " [-4.85038757e-03  7.56774139e+00  4.95606918e+01]\n",
      " [-4.85038757e-03  6.67633057e+00  4.96164703e+01]\n",
      " [-8.96261215e-01  6.23062515e+00  4.97645111e+01]]\n",
      "Triangles:\n",
      "[[   1   25    0]\n",
      " [  25   26    2]\n",
      " [   2    0   25]\n",
      " ...\n",
      " [8906 8518 8508]\n",
      " [8883 8509 8502]\n",
      " [8906 8520 8518]]\n"
     ]
    }
   ],
   "source": [
    "# Animation callback function. it needs to contain as a minimum the visualizer reference\n",
    "def rotate_around(vis):\n",
    "    # We create a 3D rotation matrix from x,y,z rotations, the rotations need to be given in radians\n",
    "    R = mesh.get_rotation_matrix_from_xyz((0, np.deg2rad(1), 0))\n",
    "    # The rotation matrix is applied to the specified object - in our case the mesh. We can also specify the rotation pivot center\n",
    "    mesh.rotate(R, center=np.mean(mesh.vertices,0))\n",
    "\n",
    "    # We create a 3D rotation matrix for the sphere as well in the opposite direction\n",
    "    R_sphere = mesh.get_rotation_matrix_from_xyz((0, np.deg2rad(-4), 0))\n",
    "    # Apply it\n",
    "    sphere_mesh.rotate(R_sphere, center=(0, 0, 0))\n",
    "    # For the changes to be seen we need to update both the geometry that has been changed and to update the whole renderer connected to the visualizer\n",
    "    vis.update_geometry(mesh)\n",
    "    vis.update_geometry(sphere_mesh)\n",
    "    vis.update_renderer()\n",
    "\n",
    "if __name__ == '__main__':\n",
    "\n",
    "    print(o3d.__version__)\n",
    "\n",
    "    # Load mesh, together with setting the flag for post-processing to True, so the texture and material will be loaded\n",
    "    mesh_path = \"bunny_w_N.csv\"   #'mesh/angelStatue_lp.obj'\n",
    "    mesh = o3d.io.read_triangle_mesh(output_path+\"bunny_poisson.ply\")\n",
    "    mesh.paint_uniform_color([0.2, 0.2, 1])\n",
    "    mesh.compute_vertex_normals()\n",
    "\n",
    "    print(mesh)\n",
    "    print('Vertices:')\n",
    "    print(np.asarray(mesh.vertices))\n",
    "    print('Triangles:')\n",
    "    print(np.asarray(mesh.triangles))\n",
    "\n",
    "\n",
    "    # We can extract information from the mesh like faces, UVs and texture\n",
    "    mesh_faces = mesh.triangles\n",
    "    mesh_uvs = mesh.triangle_uvs\n",
    "    texture = mesh.textures\n",
    "\n",
    "\n",
    "\n",
    "    # We create a visualizer object that will contain references to the created window, the 3D objects and will listen to callbacks for key presses, animations, etc.\n",
    "    vis = o3d.visualization.Visualizer()\n",
    "    # New window, where we can set the name, the width and height, as well as the position on the screen\n",
    "    vis.create_window(window_name='Angel Visualize', width=800, height=600)\n",
    "\n",
    "    # We call add_geometry to add a mesh or point cloud to the visualizer\n",
    "    vis.add_geometry(mesh)\n",
    "\n",
    "    # We can easily create primitives like cubes, sphere, cylinders, etc. In our case we create a sphere and specify its radius\n",
    "    sphere_mesh = o3d.geometry.TriangleMesh.create_sphere(radius=0.05)\n",
    "\n",
    "    # We can compute either vertex or face normals\n",
    "    sphere_mesh.compute_vertex_normals()\n",
    "    # Add the sphere to the visualizer\n",
    "    vis.add_geometry(sphere_mesh)\n",
    "    # Translate it from the center\n",
    "    sphere_mesh.translate((1, 0, 0))\n",
    "\n",
    "    #Initial rotation\n",
    "    R = mesh.get_rotation_matrix_from_xyz((-np.deg2rad(60), 0, 0))\n",
    "    mesh.rotate(R, center=(0, 0, 20))\n",
    "    vis.update_geometry(mesh)\n",
    "    vis.update_geometry(sphere_mesh)\n",
    "    vis.update_renderer()\n",
    "\n",
    "    # We can register callback animation functions that will be run on every update cycle\n",
    "    vis.register_animation_callback(rotate_around)\n",
    "    # We run the visualizater\n",
    "    vis.run()\n",
    "    # Once the visualizer is closed destroy the window and clean up\n",
    "    vis.destroy_window()"
   ]
  }
 ],
 "metadata": {
  "kernelspec": {
   "display_name": "opencv",
   "language": "python",
   "name": "python3"
  },
  "language_info": {
   "codemirror_mode": {
    "name": "ipython",
    "version": 3
   },
   "file_extension": ".py",
   "mimetype": "text/x-python",
   "name": "python",
   "nbconvert_exporter": "python",
   "pygments_lexer": "ipython3",
   "version": "3.9.16"
  },
  "orig_nbformat": 4
 },
 "nbformat": 4,
 "nbformat_minor": 2
}
