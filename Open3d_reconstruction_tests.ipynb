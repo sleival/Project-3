{
 "cells": [
  {
   "cell_type": "code",
   "execution_count": 7,
   "metadata": {},
   "outputs": [],
   "source": [
    "import numpy as np\n",
    "import open3d as o3d\n",
    "#import wget\n",
    "#import tarfile\n",
    "#import os\n",
    "import trimesh\n",
    "from scipy.spatial import ConvexHull\n",
    "from scipy.spatial.distance import cdist\n",
    "from matplotlib import pyplot as plt"
   ]
  },
  {
   "attachments": {},
   "cell_type": "markdown",
   "metadata": {},
   "source": [
    "RECONSTRUCTION WITH BPA AND POISSON - ATRIAL MESH"
   ]
  },
  {
   "cell_type": "code",
   "execution_count": 2,
   "metadata": {},
   "outputs": [
    {
     "name": "stdout",
     "output_type": "stream",
     "text": [
      "(89096, 3)\n"
     ]
    }
   ],
   "source": [
    "path = \"./Data/atrial_open.csv\"\n",
    "pc = np.loadtxt(path,skiprows=1,delimiter=',')\n",
    "\n",
    "pcd = o3d.geometry.PointCloud()\n",
    "print(pc.shape)\n",
    "pcd.points = o3d.utility.Vector3dVector(pc[:,:])\n",
    "pcd.estimate_normals()\n",
    "pcd.orient_normals_consistent_tangent_plane(6)\n",
    "o3d.visualization.draw_geometries([pcd])"
   ]
  },
  {
   "cell_type": "code",
   "execution_count": 3,
   "metadata": {},
   "outputs": [
    {
     "name": "stdout",
     "output_type": "stream",
     "text": [
      "(112132, 4)\n"
     ]
    }
   ],
   "source": [
    "path = \"./Data/atrial_pc.csv\"\n",
    "pc = np.loadtxt(path,skiprows=1,delimiter=',')\n",
    "\n",
    "pcd = o3d.geometry.PointCloud()\n",
    "print(pc.shape)\n",
    "pcd.points = o3d.utility.Vector3dVector(pc[:,1:4])\n",
    "pcd.estimate_normals()\n",
    "pcd.orient_normals_consistent_tangent_plane(6)\n",
    "o3d.visualization.draw_geometries([pcd])\n"
   ]
  },
  {
   "cell_type": "code",
   "execution_count": 4,
   "metadata": {},
   "outputs": [],
   "source": [
    "input_path = \"./\"\n",
    "output_path = \"./\""
   ]
  },
  {
   "cell_type": "code",
   "execution_count": 5,
   "metadata": {},
   "outputs": [],
   "source": [
    "#Compute the distances to the nearest neighbor and the average\n",
    "distances = pcd.compute_nearest_neighbor_distance()\n",
    "avg_dist = np.mean(distances)\n",
    "radius = 3 * avg_dist"
   ]
  },
  {
   "cell_type": "code",
   "execution_count": null,
   "metadata": {},
   "outputs": [],
   "source": [
    "#Create the mesh\n",
    "bpa_mesh = o3d.geometry.TriangleMesh.create_from_point_cloud_ball_pivoting(pcd,o3d.utility.DoubleVector([radius, radius * 2]))\n",
    "\n",
    "#Second method for the mesh\n",
    "poisson_mesh = o3d.geometry.TriangleMesh.create_from_point_cloud_poisson(pcd, depth=8, width=0, scale=1.1, linear_fit=False)[0]"
   ]
  },
  {
   "cell_type": "code",
   "execution_count": 7,
   "metadata": {},
   "outputs": [
    {
     "data": {
      "text/plain": [
       "True"
      ]
     },
     "execution_count": 7,
     "metadata": {},
     "output_type": "execute_result"
    }
   ],
   "source": [
    "\n",
    "#This works with ply and stl\n",
    "o3d.io.write_triangle_mesh(output_path+\"atrial_bpa.ply\", bpa_mesh)\n",
    "\n",
    "#This only works with ply\n",
    "o3d.io.write_triangle_mesh(output_path+\"atrial_poisson.ply\", poisson_mesh)"
   ]
  },
  {
   "cell_type": "code",
   "execution_count": 19,
   "metadata": {},
   "outputs": [
    {
     "data": {
      "text/plain": [
       "TriangleMesh with 112132 points and 224101 triangles."
      ]
     },
     "execution_count": 19,
     "metadata": {},
     "output_type": "execute_result"
    }
   ],
   "source": [
    "#Import a mesh from the file and visualize it\n",
    "bpa_mesh = o3d.io.read_triangle_mesh(output_path+\"atrial_bpa.ply\")\n",
    "bpa_mesh.paint_uniform_color([0.2, 0.2, 1])\n",
    "bpa_mesh.compute_vertex_normals()\n",
    "o3d.visualization.draw_geometries([bpa_mesh])"
   ]
  },
  {
   "cell_type": "code",
   "execution_count": 20,
   "metadata": {},
   "outputs": [
    {
     "data": {
      "text/plain": [
       "TriangleMesh with 177512 points and 355020 triangles."
      ]
     },
     "execution_count": 20,
     "metadata": {},
     "output_type": "execute_result"
    }
   ],
   "source": [
    "#Import a mesh from the file and visualize it\n",
    "poiss_mesh = o3d.io.read_triangle_mesh(output_path+\"atrial_poisson.ply\")\n",
    "poiss_mesh.paint_uniform_color([0.2, 0.2, 1])\n",
    "poiss_mesh.compute_vertex_normals()\n",
    "o3d.visualization.draw_geometries([poiss_mesh])"
   ]
  },
  {
   "cell_type": "code",
   "execution_count": 22,
   "metadata": {},
   "outputs": [
    {
     "name": "stdout",
     "output_type": "stream",
     "text": [
      "Poisson-atrial\n",
      "0.184 %\n",
      "0.715 %\n",
      "BPA-atrial\n",
      "0.182 %\n",
      "0.712 %\n"
     ]
    }
   ],
   "source": [
    "original = o3d.io.read_triangle_mesh(output_path+\"Data/atrial_original.stl\")\n",
    "N = 100000\n",
    "point_cloud = original.sample_points_uniformly(N)\n",
    "\n",
    "# Returned 420 points in testing\n",
    "hull = ConvexHull(np.array(point_cloud.points))\n",
    "\n",
    "# Extract the points forming the hull\n",
    "hullpoints = np.array(point_cloud.points)[hull.vertices,:]\n",
    "\n",
    "# Naive way of finding the best pair in O(H^2) time if H is number of points on\n",
    "# hull\n",
    "hdist = cdist(hullpoints, hullpoints, metric='euclidean')\n",
    "\n",
    "# Get the farthest apart points\n",
    "bestpair = np.unravel_index(hdist.argmax(), hdist.shape)\n",
    "\n",
    "#Print them\n",
    "max_dist = np.linalg.norm(hullpoints[bestpair[0]]-hullpoints[bestpair[1]])\n",
    "\n",
    "b = poiss_mesh.sample_points_uniformly(N)\n",
    "c = bpa_mesh.sample_points_uniformly(N)\n",
    "\n",
    "\n",
    "dist = point_cloud.compute_point_cloud_distance(b)\n",
    "dist2 = point_cloud.compute_point_cloud_distance(c)\n",
    "\n",
    "dist3 = b.compute_point_cloud_distance(point_cloud)\n",
    "dist4 = c.compute_point_cloud_distance(point_cloud)\n",
    "\n",
    "distanza=np.concatenate([dist,dist3])\n",
    "distanza2=np.concatenate([dist2,dist4])\n",
    "\n",
    "\n",
    "print(\"Poisson-atrial\")\n",
    "print(round(100*np.mean(distanza)/max_dist, 3), \"%\")\n",
    "print(round(100*np.max(distanza)/max_dist, 3), \"%\")\n",
    "\n",
    "\n",
    "print(\"BPA-atrial\")\n",
    "print(round(100*np.mean(distanza2)/max_dist, 3), \"%\")\n",
    "print(round(100*np.max(distanza2)/max_dist, 3), \"%\")\n"
   ]
  },
  {
   "cell_type": "code",
   "execution_count": 23,
   "metadata": {},
   "outputs": [
    {
     "name": "stdout",
     "output_type": "stream",
     "text": [
      "Global error BPA 5e-05 %\n",
      "Global error Poisson 0.00694 %\n"
     ]
    }
   ],
   "source": [
    "# Load mesh from a file\n",
    "mesh_atria = trimesh.load(output_path+\"Data/atrial_original.stl\")\n",
    "# Calculate the volume\n",
    "volume_a0 = mesh_atria.volume\n",
    "\n",
    "# Load mesh from a file\n",
    "mesh_atria_bpa = trimesh.load(output_path+\"atrial_bpa.ply\")\n",
    "# Calculate the volume\n",
    "volume_a1 = mesh_atria_bpa.volume\n",
    "\n",
    "mesh_atria_poisson = trimesh.load(output_path+\"atrial_poisson.ply\")\n",
    "# Calculate the volume\n",
    "volume_a2 = mesh_atria_poisson.volume\n",
    "\n",
    "# Calcolo dell'errore globale in percentuale considerando i volumi\n",
    "print(\"Global error BPA\", round(100*abs(volume_a0-volume_a1)/volume_a0, 5), \"%\")\n",
    "print(\"Global error Poisson\", round(100*abs(volume_a0-volume_a2)/volume_a0, 5), \"%\")\n",
    "\n"
   ]
  },
  {
   "attachments": {},
   "cell_type": "markdown",
   "metadata": {},
   "source": [
    "RECONSTRUCTION WITH BPA AND POISSON - AORTA MESH"
   ]
  },
  {
   "cell_type": "code",
   "execution_count": 25,
   "metadata": {},
   "outputs": [
    {
     "name": "stdout",
     "output_type": "stream",
     "text": [
      "(81000, 3)\n"
     ]
    }
   ],
   "source": [
    "path = \"./Data/aorta_pc.csv\"\n",
    "pc_aorta = np.loadtxt(path,skiprows=1,delimiter=',')\n",
    "\n",
    "pcd_aorta = o3d.geometry.PointCloud()\n",
    "print(pc_aorta.shape)\n",
    "pcd_aorta.points = o3d.utility.Vector3dVector(pc_aorta[:,:])\n",
    "pcd_aorta.estimate_normals()\n",
    "pcd_aorta.orient_normals_consistent_tangent_plane(6)"
   ]
  },
  {
   "cell_type": "code",
   "execution_count": 26,
   "metadata": {},
   "outputs": [],
   "source": [
    "o3d.visualization.draw_geometries([pcd_aorta])\n",
    "#Compute the distances to the nearest neighbor and the average\n",
    "distances_aorta = pcd_aorta.compute_nearest_neighbor_distance()\n",
    "avg_dist_aorta = np.mean(distances_aorta)\n",
    "radius_aorta = 3 * avg_dist_aorta"
   ]
  },
  {
   "cell_type": "code",
   "execution_count": 4,
   "metadata": {},
   "outputs": [],
   "source": [
    "#Create the mesh\n",
    "bpa_mesh_aorta = o3d.geometry.TriangleMesh.create_from_point_cloud_ball_pivoting(pcd_aorta,o3d.utility.DoubleVector([radius_aorta, radius_aorta * 2]))\n",
    "\n",
    "#Second method for the mesh\n",
    "poisson_mesh_aorta = o3d.geometry.TriangleMesh.create_from_point_cloud_poisson(pcd_aorta, depth=8, width=0, scale=1.1, linear_fit=False)[0]"
   ]
  },
  {
   "cell_type": "code",
   "execution_count": 27,
   "metadata": {},
   "outputs": [],
   "source": [
    "input_path = \"./\"\n",
    "output_path = \"./\""
   ]
  },
  {
   "cell_type": "code",
   "execution_count": 7,
   "metadata": {},
   "outputs": [
    {
     "data": {
      "text/plain": [
       "True"
      ]
     },
     "execution_count": 7,
     "metadata": {},
     "output_type": "execute_result"
    }
   ],
   "source": [
    "#This works with ply and stl\n",
    "o3d.io.write_triangle_mesh(output_path+\"aorta_bpa.ply\", bpa_mesh_aorta)\n",
    "\n",
    "#This only works with ply\n",
    "o3d.io.write_triangle_mesh(output_path+\"aorta_poisson.ply\", poisson_mesh_aorta)"
   ]
  },
  {
   "cell_type": "code",
   "execution_count": 31,
   "metadata": {},
   "outputs": [],
   "source": [
    "#Import a mesh from the file and visualize it\n",
    "bpa_mesh_aorta = o3d.io.read_triangle_mesh(output_path+\"aorta_bpa.ply\")\n",
    "bpa_mesh_aorta.paint_uniform_color([0.2, 0.2, 1])\n",
    "bpa_mesh.compute_vertex_normals()\n",
    "o3d.visualization.draw_geometries([bpa_mesh_aorta])"
   ]
  },
  {
   "cell_type": "code",
   "execution_count": 32,
   "metadata": {},
   "outputs": [],
   "source": [
    "#Import a mesh from the file and visualize it\n",
    "poisson_mesh_aorta = o3d.io.read_triangle_mesh(output_path+\"aorta_poisson.ply\")\n",
    "poisson_mesh_aorta.paint_uniform_color([0.2, 0.2, 1])\n",
    "poisson_mesh_aorta.compute_vertex_normals()\n",
    "o3d.visualization.draw_geometries([poisson_mesh_aorta])"
   ]
  },
  {
   "cell_type": "code",
   "execution_count": 39,
   "metadata": {},
   "outputs": [
    {
     "name": "stdout",
     "output_type": "stream",
     "text": [
      "Poisson-atrial\n",
      "0.096 %\n",
      "0.997 %\n",
      "BPA-atrial\n",
      "0.091 %\n",
      "0.868 %\n"
     ]
    }
   ],
   "source": [
    "\n",
    "original = o3d.io.read_triangle_mesh(output_path+\"Data/aorta_original.stl\")\n",
    "N = 100000\n",
    "point_cloud = original.sample_points_uniformly(N)\n",
    "\n",
    "# Returned 420 points in testing\n",
    "hull = ConvexHull(np.array(point_cloud.points))\n",
    "\n",
    "# Extract the points forming the hull\n",
    "hullpoints = np.array(point_cloud.points)[hull.vertices,:]\n",
    "\n",
    "# Naive way of finding the best pair in O(H^2) time if H is number of points on\n",
    "# hull\n",
    "hdist = cdist(hullpoints, hullpoints, metric='euclidean')\n",
    "\n",
    "# Get the farthest apart points\n",
    "bestpair = np.unravel_index(hdist.argmax(), hdist.shape)\n",
    "\n",
    "#Print them\n",
    "max_dist = np.linalg.norm(hullpoints[bestpair[0]]-hullpoints[bestpair[1]])\n",
    "\n",
    "\n",
    "b = poisson_mesh_aorta.sample_points_uniformly(N)\n",
    "c = bpa_mesh_aorta.sample_points_uniformly(N)\n",
    "\n",
    "\n",
    "dist = point_cloud.compute_point_cloud_distance(b)\n",
    "dist2 = point_cloud.compute_point_cloud_distance(c)\n",
    "\n",
    "dist3 = b.compute_point_cloud_distance(point_cloud)\n",
    "dist4 = c.compute_point_cloud_distance(point_cloud)\n",
    "\n",
    "distanza=np.concatenate([dist,dist3])\n",
    "distanza2=np.concatenate([dist2,dist4])\n",
    "\n",
    "\n",
    "print(\"Poisson-atrial\")\n",
    "print(round(100*np.mean(distanza)/max_dist, 3), \"%\")\n",
    "print(round(100*np.max(distanza)/max_dist,3), \"%\")\n",
    "\n",
    "\n",
    "print(\"BPA-atrial\")\n",
    "print(round(100*np.mean(distanza2)/max_dist, 3), \"%\")\n",
    "print(round(100*np.max(distanza2)/max_dist, 3), \"%\")"
   ]
  },
  {
   "cell_type": "code",
   "execution_count": 40,
   "metadata": {},
   "outputs": [
    {
     "name": "stdout",
     "output_type": "stream",
     "text": [
      "Global error BPA 3.6059 %\n",
      "Global error Poisson 0.0028 %\n"
     ]
    }
   ],
   "source": [
    "# Load mesh from a file\n",
    "mesh_aorta = trimesh.load(output_path+\"Data/aorta_original.stl\")\n",
    "# Calculate the volume\n",
    "volume_aorta0 = mesh_aorta.volume\n",
    "\n",
    "# Load mesh from a file\n",
    "mesh_aorta_bpa = trimesh.load(output_path+\"aorta_bpa.ply\")\n",
    "# Calculate the volume\n",
    "volume_aorta1 = mesh_aorta_bpa.volume\n",
    "\n",
    "mesh_aorta_poisson = trimesh.load(output_path+\"aorta_poisson.ply\")\n",
    "# Calculate the volume\n",
    "volume_aorta2 = mesh_aorta_poisson.volume\n",
    "\n",
    "# Calcolo dell'errore globale in percentuale considerando i volumi\n",
    "print(\"Global error BPA\", round(100*abs(volume_aorta0-volume_aorta1)/volume_aorta0, 4), \"%\")\n",
    "print(\"Global error Poisson\", round(100*abs(volume_aorta0-volume_aorta2)/volume_aorta0, 4), \"%\")\n"
   ]
  },
  {
   "attachments": {},
   "cell_type": "markdown",
   "metadata": {},
   "source": [
    "ADD WHITE NOISE (0.5% OR 1%) - ATRIAL MESH"
   ]
  },
  {
   "cell_type": "code",
   "execution_count": 41,
   "metadata": {},
   "outputs": [],
   "source": [
    "#Folder with cloud points files, folder for outputs\n",
    "input_path=\"./\"\n",
    "output_path=\"./\"\n",
    "#dataname=\"sample_w_normals.xyz\"\n",
    "dataname=\"Data/atrial_pc.csv\"\n",
    "\n",
    "#Load data\n",
    "point_cloud= np.loadtxt(input_path+dataname,skiprows=1,delimiter=',')[:,1:4]"
   ]
  },
  {
   "cell_type": "code",
   "execution_count": 42,
   "metadata": {},
   "outputs": [],
   "source": [
    "#Add white noise to the data\n",
    "def add_noise(p_cloud, sigma=0.1):\n",
    "    noise = np.random.normal(0, sigma, size=(np.shape(p_cloud)))\n",
    "    p_cloud = p_cloud + noise\n",
    "    return p_cloud\n",
    "\n",
    "def add_noisy_pts(p_cloud, perc_pts, sigma=0.1):\n",
    "    num_pts = len(p_cloud)*perc_pts\n",
    "    noise = np.random.normal(0, sigma, size=(num_pts,3))\n",
    "    sampled = np.random.sample(p_cloud, num_pts)\n",
    "    sampled = sampled + noise"
   ]
  },
  {
   "cell_type": "code",
   "execution_count": 43,
   "metadata": {},
   "outputs": [],
   "source": [
    "#Convert the data into open3d coordinates\n",
    "point_cloud = add_noise(point_cloud, sigma=np.abs(np.mean(point_cloud)*0.005))\n",
    "pcd = o3d.geometry.PointCloud()\n",
    "pcd.points = o3d.utility.Vector3dVector(point_cloud[:,:])\n",
    "pcd.estimate_normals()\n",
    "pcd.orient_normals_consistent_tangent_plane(10)\n",
    "#Visualize points\n",
    "o3d.visualization.draw_geometries([pcd], point_show_normal = False)"
   ]
  },
  {
   "cell_type": "code",
   "execution_count": 44,
   "metadata": {},
   "outputs": [],
   "source": [
    "#Compute the distances to the nearest neighbor and the average\n",
    "distances = pcd.compute_nearest_neighbor_distance()\n",
    "avg_dist = np.mean(distances)\n",
    "radius = 3 * avg_dist"
   ]
  },
  {
   "cell_type": "code",
   "execution_count": 45,
   "metadata": {},
   "outputs": [],
   "source": [
    "#Create BPA mesh\n",
    "bpa_geom = o3d.geometry.TriangleMesh.create_from_point_cloud_ball_pivoting(pcd,o3d.utility.DoubleVector([radius, radius * 2]))\n",
    "\n",
    "#Create Poisson mesh\n",
    "poisson_geom, densities = o3d.geometry.TriangleMesh.create_from_point_cloud_poisson(pcd, depth=8, width=0, scale=1.1, linear_fit=False)"
   ]
  },
  {
   "cell_type": "code",
   "execution_count": 46,
   "metadata": {},
   "outputs": [
    {
     "data": {
      "text/plain": [
       "True"
      ]
     },
     "execution_count": 46,
     "metadata": {},
     "output_type": "execute_result"
    }
   ],
   "source": [
    "#This works with ply and stl\n",
    "o3d.io.write_triangle_mesh(output_path+\"atrial_bpa_wn_05.ply\", bpa_geom)\n",
    "\n",
    "#This only works with ply\n",
    "o3d.io.write_triangle_mesh(output_path+\"atrial_poisson_wn_05.ply\", poisson_geom)"
   ]
  },
  {
   "cell_type": "code",
   "execution_count": 49,
   "metadata": {},
   "outputs": [],
   "source": [
    "#Import a mesh from the file and visualize it\n",
    "bpa_geom = o3d.io.read_triangle_mesh(output_path+\"atrial_bpa_wn_05.ply\")\n",
    "bpa_geom.paint_uniform_color([0.5, 0.5, 1])\n",
    "bpa_mesh.compute_vertex_normals()\n",
    "o3d.visualization.draw_geometries([bpa_geom])"
   ]
  },
  {
   "cell_type": "code",
   "execution_count": 48,
   "metadata": {},
   "outputs": [],
   "source": [
    "#Import a mesh from the file and visualize it\n",
    "poisson_geom = o3d.io.read_triangle_mesh(output_path+\"atrial_poisson_wn_05.ply\")\n",
    "poisson_geom.paint_uniform_color([0.5, 0.5, 1])\n",
    "poisson_geom.compute_vertex_normals()\n",
    "o3d.visualization.draw_geometries([poisson_geom])"
   ]
  },
  {
   "cell_type": "code",
   "execution_count": 53,
   "metadata": {},
   "outputs": [
    {
     "name": "stdout",
     "output_type": "stream",
     "text": [
      "Poisson-atrial wn-0.5%\n",
      "0.184 %\n",
      "0.628 %\n",
      "BPA-atrial wn-0.5%\n",
      "0.182 %\n",
      "0.742 %\n"
     ]
    }
   ],
   "source": [
    "original = o3d.io.read_triangle_mesh(output_path+\"Data/atrial_original.stl\")\n",
    "N = 100000\n",
    "point_cloud = original.sample_points_uniformly(N)\n",
    "\n",
    "# Returned 420 points in testing\n",
    "hull = ConvexHull(np.array(point_cloud.points))\n",
    "\n",
    "# Extract the points forming the hull\n",
    "hullpoints = np.array(point_cloud.points)[hull.vertices,:]\n",
    "\n",
    "# Naive way of finding the best pair in O(H^2) time if H is number of points on\n",
    "# hull\n",
    "hdist = cdist(hullpoints, hullpoints, metric='euclidean')\n",
    "\n",
    "# Get the farthest apart points\n",
    "bestpair = np.unravel_index(hdist.argmax(), hdist.shape)\n",
    "\n",
    "#Print them\n",
    "max_dist = np.linalg.norm(hullpoints[bestpair[0]]-hullpoints[bestpair[1]])\n",
    "\n",
    "\n",
    "b = poiss_mesh.sample_points_uniformly(N)\n",
    "c = bpa_mesh.sample_points_uniformly(N)\n",
    "\n",
    "\n",
    "dist = point_cloud.compute_point_cloud_distance(b)\n",
    "dist2 = point_cloud.compute_point_cloud_distance(c)\n",
    "\n",
    "dist3 = b.compute_point_cloud_distance(point_cloud)\n",
    "dist4 = c.compute_point_cloud_distance(point_cloud)\n",
    "\n",
    "distanza=np.concatenate([dist,dist3])\n",
    "distanza2=np.concatenate([dist2,dist4])\n",
    "\n",
    "\n",
    "print(\"Poisson-atrial wn-0.5%\")\n",
    "print(round(100*np.mean(distanza)/max_dist, 3), \"%\")\n",
    "print(round(100*np.max(distanza)/max_dist,3), \"%\")\n",
    "\n",
    "\n",
    "print(\"BPA-atrial wn-0.5%\")\n",
    "print(round(100*np.mean(distanza2)/max_dist, 3), \"%\")\n",
    "print(round(100*np.max(distanza2)/max_dist, 3), \"%\")"
   ]
  },
  {
   "cell_type": "code",
   "execution_count": 55,
   "metadata": {},
   "outputs": [
    {
     "name": "stdout",
     "output_type": "stream",
     "text": [
      "Global error BPA with white noise 0.5%: 4.9165 %\n",
      "Global error Poisson with white noise 0.5%: 0.069 %\n"
     ]
    }
   ],
   "source": [
    "# Load mesh from a file\n",
    "mesh_atria = trimesh.load(output_path+\"Data/atrial_original.stl\")\n",
    "# Calculate the volume\n",
    "volume_a0 = mesh_atria.volume\n",
    "\n",
    "# Load mesh from a file\n",
    "mesh_atria_bpa_wn = trimesh.load(output_path+\"atrial_bpa_wn_05.ply\")\n",
    "# Calculate the volume\n",
    "volume_a1_wn = mesh_atria_bpa_wn.volume\n",
    "\n",
    "mesh_atria_poisson_wn = trimesh.load(output_path+\"atrial_poisson_wn_05.ply\")\n",
    "# Calculate the volume\n",
    "volume_a2_wn = mesh_atria_poisson_wn.volume\n",
    "\n",
    "# Calcolo dell'errore globale in percentuale considerando i volumi\n",
    "print(\"Global error BPA with white noise 0.5%:\", round(100*abs(volume_a0-volume_a1_wn)/volume_a0, 4), \"%\")\n",
    "print(\"Global error Poisson with white noise 0.5%:\", round(100*abs(volume_a0-volume_a2_wn)/volume_a0, 4), \"%\")"
   ]
  },
  {
   "attachments": {},
   "cell_type": "markdown",
   "metadata": {},
   "source": [
    "ADD WHITE NOISE AND THEN DOWNSAMPLING (voxel_size = 0.1) - ATRIAL MESH"
   ]
  },
  {
   "cell_type": "code",
   "execution_count": 56,
   "metadata": {},
   "outputs": [],
   "source": [
    "#Folder with cloud points files, folder for outputs\n",
    "input_path=\"./\"\n",
    "output_path=\"./\"\n",
    "#dataname=\"sample_w_normals.xyz\"\n",
    "dataname=\"Data/atrial_pc.csv\"\n",
    "\n",
    "#Load data\n",
    "point_cloud= np.loadtxt(input_path+dataname,skiprows=1,delimiter=',')[:,1:4]"
   ]
  },
  {
   "cell_type": "code",
   "execution_count": 57,
   "metadata": {},
   "outputs": [],
   "source": [
    "#Add white noise to the data\n",
    "def add_noise(p_cloud, sigma=0.1):\n",
    "    noise = np.random.normal(0, sigma, size=(np.shape(p_cloud)))\n",
    "    p_cloud = p_cloud + noise\n",
    "    return p_cloud\n",
    "\n",
    "def add_noisy_pts(p_cloud, perc_pts, sigma=0.1):\n",
    "    num_pts = len(p_cloud)*perc_pts\n",
    "    noise = np.random.normal(0, sigma, size=(num_pts,3))\n",
    "    sampled = np.random.sample(p_cloud, num_pts)\n",
    "    sampled = sampled + noise"
   ]
  },
  {
   "cell_type": "code",
   "execution_count": 58,
   "metadata": {},
   "outputs": [],
   "source": [
    "#Convert the data into open3d coordinates\n",
    "\n",
    "point_cloud = add_noise(point_cloud, sigma=np.abs(np.mean(point_cloud)*0.005))\n",
    "pcd = o3d.geometry.PointCloud()\n",
    "pcd.points = o3d.utility.Vector3dVector(point_cloud[:,:])\n",
    "pcd.estimate_normals()\n",
    "pcd.orient_normals_consistent_tangent_plane(10)\n",
    "#Visualize points\n",
    "o3d.visualization.draw_geometries([pcd], point_show_normal = False)"
   ]
  },
  {
   "cell_type": "code",
   "execution_count": 59,
   "metadata": {},
   "outputs": [
    {
     "name": "stdout",
     "output_type": "stream",
     "text": [
      "std::vector<Eigen::Vector3d> with 62904 elements.\n",
      "Use numpy.asarray() to access data.\n"
     ]
    }
   ],
   "source": [
    "# DOWNSAMPLING\n",
    "\n",
    "# Voxel downsample the point cloud\n",
    "downsampled_cloud = pcd.voxel_down_sample(voxel_size=500)\n",
    "print(downsampled_cloud.points)\n",
    "\n",
    "# Visualize the downsampled point cloud\n",
    "o3d.visualization.draw_geometries([downsampled_cloud])"
   ]
  },
  {
   "cell_type": "code",
   "execution_count": 60,
   "metadata": {},
   "outputs": [],
   "source": [
    "#Compute the distances to the nearest neighbor and the average\n",
    "distances = downsampled_cloud.compute_nearest_neighbor_distance()\n",
    "avg_dist = np.mean(distances)\n",
    "radius = 3 * avg_dist"
   ]
  },
  {
   "cell_type": "code",
   "execution_count": 63,
   "metadata": {},
   "outputs": [],
   "source": [
    "#Create BPA mesh\n",
    "bpa_geom = o3d.geometry.TriangleMesh.create_from_point_cloud_ball_pivoting(downsampled_cloud,o3d.utility.DoubleVector([radius, radius * 2]))\n",
    "\n",
    "#Create Poisson mesh\n",
    "poisson_geom, densities = o3d.geometry.TriangleMesh.create_from_point_cloud_poisson(downsampled_cloud, depth=8, width=0, scale=1.1, linear_fit=False)"
   ]
  },
  {
   "cell_type": "code",
   "execution_count": 64,
   "metadata": {},
   "outputs": [
    {
     "data": {
      "text/plain": [
       "True"
      ]
     },
     "execution_count": 64,
     "metadata": {},
     "output_type": "execute_result"
    }
   ],
   "source": [
    "#This works with ply and stl\n",
    "o3d.io.write_triangle_mesh(output_path+\"atrial_bpa_ds_05.ply\", bpa_geom)\n",
    "\n",
    "#This only works with ply\n",
    "o3d.io.write_triangle_mesh(output_path+\"atrial_poisson_ds_05.ply\", poisson_geom)"
   ]
  },
  {
   "cell_type": "code",
   "execution_count": 66,
   "metadata": {},
   "outputs": [],
   "source": [
    "#Import a mesh from the file and visualize it\n",
    "bpa_geom = o3d.io.read_triangle_mesh(output_path+\"atrial_bpa_ds_05.ply\")\n",
    "bpa_geom.paint_uniform_color([0.5, 0.5, 1])\n",
    "bpa_mesh.compute_vertex_normals()\n",
    "o3d.visualization.draw_geometries([bpa_geom])"
   ]
  },
  {
   "cell_type": "code",
   "execution_count": 67,
   "metadata": {},
   "outputs": [],
   "source": [
    "#Import a mesh from the file and visualize it\n",
    "poisson_geom = o3d.io.read_triangle_mesh(output_path+\"atrial_poisson_ds_05.ply\")\n",
    "poisson_geom.paint_uniform_color([0.5, 0.5, 1])\n",
    "poisson_geom.compute_vertex_normals()\n",
    "o3d.visualization.draw_geometries([poisson_geom])"
   ]
  },
  {
   "cell_type": "code",
   "execution_count": 70,
   "metadata": {},
   "outputs": [
    {
     "name": "stdout",
     "output_type": "stream",
     "text": [
      "Poisson-atrial ds-0.5%\n",
      "0.184 %\n",
      "0.7258 %\n",
      "BPA-atrial ds-0.5%\n",
      "0.1817 %\n",
      "0.701 %\n"
     ]
    }
   ],
   "source": [
    "original = o3d.io.read_triangle_mesh(output_path+\"Data/atrial_original.stl\")\n",
    "N = 100000\n",
    "point_cloud = original.sample_points_uniformly(N)\n",
    "\n",
    "# Returned 420 points in testing\n",
    "hull = ConvexHull(np.array(point_cloud.points))\n",
    "\n",
    "# Extract the points forming the hull\n",
    "hullpoints = np.array(point_cloud.points)[hull.vertices,:]\n",
    "\n",
    "# Naive way of finding the best pair in O(H^2) time if H is number of points on\n",
    "# hull\n",
    "hdist = cdist(hullpoints, hullpoints, metric='euclidean')\n",
    "\n",
    "# Get the farthest apart points\n",
    "bestpair = np.unravel_index(hdist.argmax(), hdist.shape)\n",
    "\n",
    "#Print them\n",
    "max_dist = np.linalg.norm(hullpoints[bestpair[0]]-hullpoints[bestpair[1]])\n",
    "\n",
    "\n",
    "b = poiss_mesh.sample_points_uniformly(N)\n",
    "c = bpa_mesh.sample_points_uniformly(N)\n",
    "\n",
    "\n",
    "dist = point_cloud.compute_point_cloud_distance(b)\n",
    "dist2 = point_cloud.compute_point_cloud_distance(c)\n",
    "\n",
    "dist3 = b.compute_point_cloud_distance(point_cloud)\n",
    "dist4 = c.compute_point_cloud_distance(point_cloud)\n",
    "\n",
    "distanza=np.concatenate([dist,dist3])\n",
    "distanza2=np.concatenate([dist2,dist4])\n",
    "\n",
    "\n",
    "print(\"Poisson-atrial ds-0.5%\")\n",
    "print(round(100*np.mean(distanza)/max_dist, 3), \"%\")\n",
    "print(round(100*np.max(distanza)/max_dist,4), \"%\")\n",
    "\n",
    "\n",
    "print(\"BPA-atrial ds-0.5%\")\n",
    "print(round(100*np.mean(distanza2)/max_dist, 4), \"%\")\n",
    "print(round(100*np.max(distanza2)/max_dist, 4), \"%\")"
   ]
  },
  {
   "cell_type": "code",
   "execution_count": 71,
   "metadata": {},
   "outputs": [
    {
     "name": "stdout",
     "output_type": "stream",
     "text": [
      "Global error BPA with white noise and downsampling 0.5%: 5.9511 %\n",
      "Global error Poisson with white noise and downsampling 0.5%: 0.1173 %\n"
     ]
    }
   ],
   "source": [
    "# Load mesh from a file\n",
    "mesh_atria = trimesh.load(output_path+\"Data/atrial_original.stl\")\n",
    "# Calculate the volume\n",
    "volume_a0 = mesh_atria.volume\n",
    "\n",
    "# Load mesh from a file\n",
    "mesh_atria_bpa_ds = trimesh.load(output_path+\"atrial_bpa_ds.ply\")\n",
    "# Calculate the volume\n",
    "volume_a1_ds = mesh_atria_bpa_ds.volume\n",
    "\n",
    "mesh_atria_poisson_ds = trimesh.load(output_path+\"atrial_poisson_ds.ply\")\n",
    "# Calculate the volume\n",
    "volume_a2_ds = mesh_atria_poisson_ds.volume\n",
    "\n",
    "# Calcolo dell'errore globale in percentuale considerando i volumi\n",
    "print(\"Global error BPA with white noise and downsampling 0.5%:\", round(100*abs(volume_a0-volume_a1_ds)/volume_a0, 4), \"%\")\n",
    "print(\"Global error Poisson with white noise and downsampling 0.5%:\", round(100*abs(volume_a0-volume_a2_ds)/volume_a0, 4), \"%\")"
   ]
  },
  {
   "cell_type": "code",
   "execution_count": 5,
   "metadata": {},
   "outputs": [],
   "source": [
    "#Add white noise to the data\n",
    "def add_noise(p_cloud, sigma=0.1):\n",
    "    noise = np.random.normal(0, sigma, size=(np.shape(p_cloud)))\n",
    "    p_cloud = p_cloud + noise\n",
    "    return p_cloud"
   ]
  },
  {
   "cell_type": "code",
   "execution_count": 81,
   "metadata": {},
   "outputs": [],
   "source": [
    "def create_meshes(points_path, out_bpa_path, out_poiss_path, noise, vox_size, vis=False):\n",
    "\n",
    "    #Import points\n",
    "    point_cloud= np.loadtxt(points_path,skiprows=1,delimiter=',')[:,:]\n",
    "\n",
    "    #Convert the data into open3d coordinates and create noise\n",
    "    if noise != 0:\n",
    "        point_cloud = add_noise(point_cloud, sigma=np.abs(np.mean(point_cloud)*noise))\n",
    "    pcd = o3d.geometry.PointCloud()\n",
    "    pcd.points = o3d.utility.Vector3dVector(point_cloud[:,:])\n",
    "    pcd.estimate_normals()\n",
    "    pcd.orient_normals_consistent_tangent_plane(10)\n",
    "\n",
    "    #Perform voxel downsampling if there is noise\n",
    "    downsampled_cloud = pcd\n",
    "    if vox_size != 0:\n",
    "        downsampled_cloud = pcd.voxel_down_sample(voxel_size=vox_size)\n",
    "\n",
    "    #Compute average distance between points\n",
    "    distances = downsampled_cloud.compute_nearest_neighbor_distance()\n",
    "    avg_dist = np.mean(distances)\n",
    "    radius = 3 * avg_dist\n",
    "\n",
    "    #Create BPA mesh\n",
    "    bpa_geom = o3d.geometry.TriangleMesh.create_from_point_cloud_ball_pivoting(downsampled_cloud,o3d.utility.DoubleVector([radius, radius * 2]))\n",
    "\n",
    "    #Create Poisson mesh\n",
    "    poisson_geom = o3d.geometry.TriangleMesh.create_from_point_cloud_poisson(downsampled_cloud, depth=8, width=0, scale=1.1, linear_fit=False)[0]\n",
    "\n",
    "    #This works with ply and stl\n",
    "    o3d.io.write_triangle_mesh(out_bpa_path, bpa_geom)\n",
    "\n",
    "    #This only works with ply\n",
    "    o3d.io.write_triangle_mesh(out_poiss_path, poisson_geom)\n",
    "\n",
    "    if vis:\n",
    "        bpa_geom.paint_uniform_color([0.5, 0.5, 1])\n",
    "        poisson_geom.paint_uniform_color([0.5, 0.5, 1])\n",
    "        o3d.visualization.draw_geometries([bpa_geom], width=1000)\n",
    "        o3d.visualization.draw_geometries([poisson_geom], width=1000)\n",
    "    \n",
    "    return bpa_geom, poisson_geom"
   ]
  },
  {
   "cell_type": "code",
   "execution_count": 78,
   "metadata": {},
   "outputs": [],
   "source": [
    "def compute_errors(original_path, bpa_mesh_path, poiss_mesh_path):\n",
    "\n",
    "    #Load data\n",
    "    bpa_mesh= o3d.io.read_triangle_mesh(bpa_mesh_path)\n",
    "    poiss_mesh= o3d.io.read_triangle_mesh(poiss_mesh_path)\n",
    "    original = o3d.io.read_triangle_mesh(original_path)\n",
    "\n",
    "    N = 100000\n",
    "    point_cloud = original.sample_points_uniformly(N)\n",
    "\n",
    "    #Compute the convex hull\n",
    "    hull = ConvexHull(np.array(original.vertices))\n",
    "\n",
    "    # Extract the points forming the hull\n",
    "    hullpoints = np.array(original.vertices)[hull.vertices,:]\n",
    "\n",
    "    # Find the distance between all points of the hull\n",
    "    hdist = cdist(hullpoints, hullpoints, metric='euclidean')\n",
    "\n",
    "    # Get the farthest apart points\n",
    "    bestpair = np.unravel_index(hdist.argmax(), hdist.shape)\n",
    "\n",
    "    #Calculate longest distance between points\n",
    "    max_dist = np.linalg.norm(hullpoints[bestpair[0]]-hullpoints[bestpair[1]])\n",
    "\n",
    "    #Sample points from reconstructed meshes\n",
    "    b = poiss_mesh.sample_points_uniformly(N)\n",
    "    c = bpa_mesh.sample_points_uniformly(N)\n",
    "\n",
    "\n",
    "    dist = point_cloud.compute_point_cloud_distance(b)\n",
    "    dist2 = point_cloud.compute_point_cloud_distance(c)\n",
    "\n",
    "    dist3 = b.compute_point_cloud_distance(point_cloud)\n",
    "    dist4 = c.compute_point_cloud_distance(point_cloud)\n",
    "\n",
    "    distanza=np.concatenate([dist,dist3])\n",
    "    distanza2=np.concatenate([dist2,dist4])\n",
    "\n",
    "    # Load mesh from a file\n",
    "    mesh_atria = trimesh.load(original_path)\n",
    "    # Calculate the volume\n",
    "    volume_a0 = mesh_atria.volume\n",
    "\n",
    "    # Load mesh from a file\n",
    "    mesh_atria_bpa_ds = trimesh.load(bpa_mesh_path)\n",
    "    # Calculate the volume\n",
    "    volume_a1_ds = mesh_atria_bpa_ds.volume\n",
    "\n",
    "    mesh_atria_poisson_ds = trimesh.load(poiss_mesh_path)\n",
    "    # Calculate the volume\n",
    "    volume_a2_ds = mesh_atria_poisson_ds.volume\n",
    "\n",
    "    # Print everything\n",
    "    print(\"BPA\")\n",
    "    print(\"Mean: \", round(100*np.mean(distanza2)/max_dist, 4), \"%\")\n",
    "    print(\"Max: \", round(100*np.max(distanza2)/max_dist, 4), \"%\")\n",
    "    print(\"Global error:\", round(100*abs(volume_a0-volume_a1_ds)/volume_a0, 4), \"%\")\n",
    "    \n",
    "    print(\"\")\n",
    "\n",
    "    print(\"Poisson\")\n",
    "    print(\"Mean: \", round(100*np.mean(distanza)/max_dist, 3), \"%\")\n",
    "    print(\"Max: \", round(100*np.max(distanza)/max_dist,4), \"%\")\n",
    "    print(\"Global error:\", round(100*abs(volume_a0-volume_a2_ds)/volume_a0, 4), \"%\")\n",
    "\n",
    "    plt.boxplot((distanza2/max_dist, distanza/max_dist))\n",
    "    #plt.yscale('log')\n",
    "    plt.xlabel(\"BPA (1) and Poisson (2)\")\n",
    "    plt.ylabel(\"Percentual error\")\n",
    "    plt.title(\"Percentual errors on sampled points\")"
   ]
  },
  {
   "cell_type": "code",
   "execution_count": 103,
   "metadata": {},
   "outputs": [],
   "source": [
    "bpa_geom, poiss_geom = create_meshes(\"Data/aorta_pc.csv\", \"aorta_bpa_ds_1.ply\", \"aorta_poisson_ds_1.ply\",\n",
    "              noise=0.005, vox_size=0.1, vis=True)"
   ]
  },
  {
   "cell_type": "code",
   "execution_count": 105,
   "metadata": {},
   "outputs": [
    {
     "name": "stdout",
     "output_type": "stream",
     "text": [
      "BPA\n",
      "Mean:  0.1362 %\n",
      "Max:  1.6074 %\n",
      "Global error: 5.1264 %\n",
      "\n",
      "Poisson\n",
      "Mean:  0.101 %\n",
      "Max:  0.6114 %\n",
      "Global error: 0.1499 %\n"
     ]
    },
    {
     "data": {
      "image/png": "[encoded data removed]",
      "text/plain": [
       "<Figure size 640x480 with 1 Axes>"
      ]
     },
     "metadata": {},
     "output_type": "display_data"
    }
   ],
   "source": [
    "compute_errors(\"Data/aorta_original.stl\", \"aorta_bpa_ds_05.ply\", \"aorta_poisson_ds_05.ply\")"
   ]
  }
 ],
 "metadata": {
  "kernelspec": {
   "display_name": "opencv",
   "language": "python",
   "name": "python3"
  },
  "language_info": {
   "codemirror_mode": {
    "name": "ipython",
    "version": 3
   },
   "file_extension": ".py",
   "mimetype": "text/x-python",
   "name": "python",
   "nbconvert_exporter": "python",
   "pygments_lexer": "ipython3",
   "version": "3.10.4"
  },
  "orig_nbformat": 4
 },
 "nbformat": 4,
 "nbformat_minor": 2
}
